{
  "nbformat": 4,
  "nbformat_minor": 0,
  "metadata": {
    "colab": {
      "provenance": [],
      "authorship_tag": "ABX9TyNMsjkzxmnNRK+hMIp1thf6",
      "include_colab_link": true
    },
    "kernelspec": {
      "name": "python3",
      "display_name": "Python 3"
    },
    "language_info": {
      "name": "python"
    }
  },
  "cells": [
    {
      "cell_type": "markdown",
      "metadata": {
        "id": "view-in-github",
        "colab_type": "text"
      },
      "source": [
        "<a href=\"https://colab.research.google.com/github/cmlieu/ProjetoFinal_IA_Google/blob/main/Pre%C3%A7os.ipynb\" target=\"_parent\"><img src=\"https://colab.research.google.com/assets/colab-badge.svg\" alt=\"Open In Colab\"/></a>"
      ]
    },
    {
      "cell_type": "code",
      "execution_count": 2,
      "metadata": {
        "id": "96IDDDjW86tQ",
        "colab": {
          "base_uri": "https://localhost:8080/"
        },
        "outputId": "82bc61d9-7f4e-41a6-dc25-2ea7c1acb218"
      },
      "outputs": [
        {
          "output_type": "stream",
          "name": "stdout",
          "text": [
            "\u001b[?25l   \u001b[90m━━━━━━━━━━━━━━━━━━━━━━━━━━━━━━━━━━━━━━━━\u001b[0m \u001b[32m0.0/1.2 MB\u001b[0m \u001b[31m?\u001b[0m eta \u001b[36m-:--:--\u001b[0m\r\u001b[2K   \u001b[91m━━━━━━━━━━━━━━━━━━━━━━━━━━━━━━━━━━━━━━━\u001b[0m\u001b[91m╸\u001b[0m \u001b[32m1.2/1.2 MB\u001b[0m \u001b[31m55.3 MB/s\u001b[0m eta \u001b[36m0:00:01\u001b[0m\r\u001b[2K   \u001b[90m━━━━━━━━━━━━━━━━━━━━━━━━━━━━━━━━━━━━━━━━\u001b[0m \u001b[32m1.2/1.2 MB\u001b[0m \u001b[31m29.3 MB/s\u001b[0m eta \u001b[36m0:00:00\u001b[0m\n",
            "\u001b[?25h\u001b[?25l   \u001b[90m━━━━━━━━━━━━━━━━━━━━━━━━━━━━━━━━━━━━━━━━\u001b[0m \u001b[32m0.0/232.1 kB\u001b[0m \u001b[31m?\u001b[0m eta \u001b[36m-:--:--\u001b[0m\r\u001b[2K   \u001b[90m━━━━━━━━━━━━━━━━━━━━━━━━━━━━━━━━━━━━━━━━\u001b[0m \u001b[32m232.1/232.1 kB\u001b[0m \u001b[31m15.4 MB/s\u001b[0m eta \u001b[36m0:00:00\u001b[0m\n",
            "\u001b[2K   \u001b[90m━━━━━━━━━━━━━━━━━━━━━━━━━━━━━━━━━━━━━━━━\u001b[0m \u001b[32m95.2/95.2 kB\u001b[0m \u001b[31m6.2 MB/s\u001b[0m eta \u001b[36m0:00:00\u001b[0m\n",
            "\u001b[2K   \u001b[90m━━━━━━━━━━━━━━━━━━━━━━━━━━━━━━━━━━━━━━━━\u001b[0m \u001b[32m217.1/217.1 kB\u001b[0m \u001b[31m14.1 MB/s\u001b[0m eta \u001b[36m0:00:00\u001b[0m\n",
            "\u001b[2K   \u001b[90m━━━━━━━━━━━━━━━━━━━━━━━━━━━━━━━━━━━━━━━━\u001b[0m \u001b[32m334.1/334.1 kB\u001b[0m \u001b[31m19.1 MB/s\u001b[0m eta \u001b[36m0:00:00\u001b[0m\n",
            "\u001b[2K   \u001b[90m━━━━━━━━━━━━━━━━━━━━━━━━━━━━━━━━━━━━━━━━\u001b[0m \u001b[32m125.1/125.1 kB\u001b[0m \u001b[31m7.8 MB/s\u001b[0m eta \u001b[36m0:00:00\u001b[0m\n",
            "\u001b[2K   \u001b[90m━━━━━━━━━━━━━━━━━━━━━━━━━━━━━━━━━━━━━━━━\u001b[0m \u001b[32m65.8/65.8 kB\u001b[0m \u001b[31m3.1 MB/s\u001b[0m eta \u001b[36m0:00:00\u001b[0m\n",
            "\u001b[2K   \u001b[90m━━━━━━━━━━━━━━━━━━━━━━━━━━━━━━━━━━━━━━━━\u001b[0m \u001b[32m119.0/119.0 kB\u001b[0m \u001b[31m4.9 MB/s\u001b[0m eta \u001b[36m0:00:00\u001b[0m\n",
            "\u001b[2K   \u001b[90m━━━━━━━━━━━━━━━━━━━━━━━━━━━━━━━━━━━━━━━━\u001b[0m \u001b[32m194.9/194.9 kB\u001b[0m \u001b[31m10.7 MB/s\u001b[0m eta \u001b[36m0:00:00\u001b[0m\n",
            "\u001b[2K   \u001b[90m━━━━━━━━━━━━━━━━━━━━━━━━━━━━━━━━━━━━━━━━\u001b[0m \u001b[32m62.5/62.5 kB\u001b[0m \u001b[31m3.9 MB/s\u001b[0m eta \u001b[36m0:00:00\u001b[0m\n",
            "\u001b[2K   \u001b[90m━━━━━━━━━━━━━━━━━━━━━━━━━━━━━━━━━━━━━━━━\u001b[0m \u001b[32m103.3/103.3 kB\u001b[0m \u001b[31m6.3 MB/s\u001b[0m eta \u001b[36m0:00:00\u001b[0m\n",
            "\u001b[2K   \u001b[90m━━━━━━━━━━━━━━━━━━━━━━━━━━━━━━━━━━━━━━━━\u001b[0m \u001b[32m44.4/44.4 kB\u001b[0m \u001b[31m2.4 MB/s\u001b[0m eta \u001b[36m0:00:00\u001b[0m\n",
            "\u001b[2K   \u001b[90m━━━━━━━━━━━━━━━━━━━━━━━━━━━━━━━━━━━━━━━━\u001b[0m \u001b[32m72.0/72.0 kB\u001b[0m \u001b[31m4.7 MB/s\u001b[0m eta \u001b[36m0:00:00\u001b[0m\n",
            "\u001b[?25h"
          ]
        }
      ],
      "source": [
        "!pip -q install google-genai\n",
        "!pip -q install google-adk"
      ]
    },
    {
      "cell_type": "markdown",
      "source": [
        "CHATBOT"
      ],
      "metadata": {
        "id": "kfuW5gsT9DBD"
      }
    },
    {
      "cell_type": "code",
      "source": [
        "from google import genai\n",
        "from google.genai import types\n",
        "from googleapiclient.discovery import build # Importe a biblioteca para usar a API do Google Search\n",
        "import os\n",
        "\n",
        "# Importar chave API\n",
        "from google.colab import userdata\n",
        "api_key = userdata.get('GOOGLE_API_KEY')\n",
        "\n",
        "#criar variável de ambiente\n",
        "os.environ ['GOOGLE_API_KEY'] = userdata.get('GOOGLE_API_KEY')\n",
        "\n",
        "#instalar um cliente que irá receber as informações do Gemini\n",
        "client = genai.Client()\n",
        "\n",
        "# Inicialização e configuração\n",
        "modeloIA = \"gemini-2.0-flash\"\n",
        "#modeloIA = \"gemini-exp-1206\" #nao adiantou mudar o modelo\n",
        "\n",
        "#criar objeto chat\n",
        "\n",
        "chat = client.chats.create(model = modeloIA)\n",
        "\n",
        "#criar uma persona para resposta\n",
        "chat_config = types.GenerateContentConfig(\n",
        "  system_instruction = \"você é um assistente pessoal, que sempre responde de forma sucinta.\",\n",
        ")\n",
        "\n",
        "chat = client.chats.create(model = modeloIA, config = chat_config)\n"
      ],
      "metadata": {
        "id": "9U7kdtGmPHCw"
      },
      "execution_count": 3,
      "outputs": []
    },
    {
      "cell_type": "code",
      "source": [
        "from google.adk.agents import Agent\n",
        "from google.adk.runners import Runner\n",
        "from google.adk.sessions import InMemorySessionService\n",
        "from google.adk.tools import google_search\n",
        "from datetime import date\n",
        "import textwrap # Para formatar melhor a saída de texto\n",
        "from IPython.display import display, Markdown # Para exibir texto formatado no Colab\n",
        "import requests # Para fazer requisições HTTP\n",
        "import warnings\n",
        "\n",
        "warnings.filterwarnings(\"ignore\")"
      ],
      "metadata": {
        "id": "gSFIqFgAxrn-"
      },
      "execution_count": 4,
      "outputs": []
    },
    {
      "cell_type": "code",
      "source": [
        "# Função auxiliar que envia uma mensagem para um agente via Runner e retorna a resposta final\n",
        "def call_agent(agent: Agent, message_text: str) -> str:\n",
        "    # Cria um serviço de sessão em memória\n",
        "    session_service = InMemorySessionService()\n",
        "    # Cria uma nova sessão (você pode personalizar os IDs conforme necessário)\n",
        "    session = session_service.create_session(app_name=agent.name, user_id=\"user1\", session_id=\"session1\")\n",
        "    # Cria um Runner para o agente\n",
        "    runner = Runner(agent=agent, app_name=agent.name, session_service=session_service)\n",
        "    # Cria o conteúdo da mensagem de entrada\n",
        "    content = types.Content(role=\"user\", parts=[types.Part(text=message_text)])\n",
        "\n",
        "    final_response = \"\"\n",
        "    # Itera assincronamente pelos eventos retornados durante a execução do agente\n",
        "    for event in runner.run(user_id=\"user1\", session_id=\"session1\", new_message=content):\n",
        "        if event.is_final_response():\n",
        "          for part in event.content.parts:\n",
        "            if part.text is not None:\n",
        "              final_response += part.text\n",
        "              final_response += \"\\n\"\n",
        "    return final_response"
      ],
      "metadata": {
        "id": "LHu_Ion81UYW"
      },
      "execution_count": 5,
      "outputs": []
    },
    {
      "cell_type": "code",
      "source": [
        "# --- Agente 1: Buscador de preços no Google --- #\n",
        "\n",
        "\n",
        "def agente_buscador(preco, cidade, data_de_hoje):\n",
        "\n",
        "    buscador = Agent(\n",
        "       name = \"agente_buscador\",\n",
        "       model = \"gemini-2.0-flash\",\n",
        "       instruction = \"\"\"\n",
        "\n",
        "            Você é um assistente de pesquisa cuja tarefa é buscar preços no Google Search para os seguintes produtos [PRODUTOS DEFINIDOS PELO USUÁRIO]\n",
        "      no local [LOCAL DEFINIDO PELO USUÁRIO].\n",
        "\n",
        "        **ENTRADA DO USUÁRIO:** O usuário fornecerá uma lista de um ou mais produtos e o local (cidade, bairro, etc.).\n",
        "\n",
        "        **ESTRATÉGIA DE BUSCA DINÂMICA E CRITÉRIOS DE SELEÇÃO:**\n",
        "\n",
        "        1.  **Preparação da Busca:** Para cada produto na lista fornecida pelo usuário, formule termos de busca relevantes para encontrar\n",
        "        onde ele é vendido e qual o seu preço na cidade especificada. Exemplos de termos de busca para um produto chamado \"[NOME DO PRODUTO]\" seriam:\n",
        "            * \"preço [NOME DO PRODUTO] [CIDADE]\"\n",
        "            * \"onde comprar [NOME DO PRODUTO] [CIDADE]\"\n",
        "            * \"[NOME DO PRODUTO] comprar online [CIDADE]\"\n",
        "            * \"[NOME DE GRANDES SUPERMERCADOS/ATACADOS ONLINE na cidade] [NOME DO PRODUTO]\"\n",
        "        2.  **Explorar Diversidade de Lojas:** Busque os preços dos produtos dos supermercados, atacados, mercados mais populares\n",
        "        (i.e., mais reconhecidos com base na quantidade de visitas ao site). Procure apenas lojas que existem na cidade especificada e que tenham site com link.\n",
        "        3.  **Navegação e Verificação Rigorosa (Por Produto):** Para cada site encontrado:\n",
        "            * Para cada produto da lista do usuário, navegue até a página específica desse produto no site. Use a busca interna do site, se necessário.\n",
        "            * **VERIFIQUE ATENTAMENTE se o *valor numérico do preço* está claramente indicado em cada página E se há um *link direto para a página desse produto*.**\n",
        "            * **SE O PREÇO OU O LINK de QUALQUER UM dos produtos da lista NÃO forem encontrados, DESCARTE IMEDIATAMENTE ESTE SITE POR COMPLETO.**\n",
        "        4.  **Datas Recentes:** Priorize os preços em até 30 dias da data da consulta do usuário.\n",
        "        5.  **Retorno Apenas de Empresas Completas:** Retorne os dados (nome da loja, preços e links) APENAS para as empresas que apresentarem o\n",
        "        valor numérico do preço E o link direto para a página de TODOS os produtos listados pelo usuário. Não combine dados de lojas diferentes.\n",
        "        6.  IMPORTANTE: **Número Alvo de Empresas:** Continue a busca até identificar pelo menos 3 empresas que atendam a todos os critérios.\n",
        "\n",
        "        **Instrução de Saída:**\n",
        "\n",
        "        Para cada uma das empresas encontradas que possuem o preço E o link de *todos* os produtos fornecidos pelo usuário, apresente:\n",
        "\n",
        "        * **Nome da Loja:** [Nome da Loja]\n",
        "        * **Preços e Links:**\n",
        "            * [Nome do Produto 1]: [Valor do Preço] - [Link do Produto 1]\n",
        "            * [Nome do Produto 2]: [Valor do Preço] - [Link do Produto 2]\n",
        "            * ... (para todos os produtos da lista do usuário)\n",
        "\n",
        "        **IMPORTANTE:** Garanta que a saída esteja claramente associada a cada produto específico da lista do usuário, incluindo o preço e o link correspondente.\n",
        "\n",
        "\n",
        "       \"\"\",\n",
        "       tools = [google_search]\n",
        "    )\n",
        "\n",
        "    entrada_do_agente_buscador = f\"Preço: {preco}\\nCidade: {cidade}\\nData de hoje: {data_de_hoje}\"\n",
        "\n",
        "# Executa o agente\n",
        "    noticias = call_agent(buscador, entrada_do_agente_buscador)\n",
        "    return noticias\n"
      ],
      "metadata": {
        "id": "Fn0gas-Vw0dU"
      },
      "execution_count": 13,
      "outputs": []
    },
    {
      "cell_type": "code",
      "source": [
        "# --- Agente 2: Analisador de preços --- #\n",
        "\n",
        "def agente_analisador(preco, cidade, noticias_buscadas):\n",
        "\n",
        "    analisador = Agent(\n",
        "       name = \"agente_analisador\",\n",
        "       model = \"gemini-2.0-flash\",\n",
        "       instruction = \"\"\"\n",
        "\n",
        "       Você é um analisador de preços, cuja tarefa é receber os dados de preços e links de diferentes empresas fornecidos pelo Agente Buscador e determinar qual empresa oferece o menor preço total para todos os produtos.\n",
        "\n",
        "        1.  Analise cuidadosamente os dados fornecidos pelo Agente Buscador para cada empresa. Confira se há link para a loja listada pelo Agente Buscador. Caso não haja, descarte a empresa.\n",
        "        2.  Verifique se cada empresa listada realmente apresenta um *valor numérico* para o preço e o *link* de *todos* os produtos solicitados.\n",
        "        Ignore quaisquer empresas que não possuam o preço ou o link de algum dos produtos. Faça a soma dos valores numéricos de todos os produtos para cada empresa.\n",
        "        3.  Para cada empresa válida, some o valor numérico dos preços de todos os produtos, lembrando de tratar a vírgula como separador decimal, caso ela apareça nos dados de entrada.\n",
        "        4.  Compare os totais de todas as empresas válidas e retorne apenas os dados da empresa que possui o menor valor total, construindo a resposta da seguinte forma **EXATA**:\n",
        "\n",
        "        \"**Menor Preço Total Encontrado:**\" + \"\\n\" +\n",
        "        \"**Empresa:** \" + [Nome da Empresa\"com o menor preço total] + \"\\n\" +\n",
        "        \"**Preço Total:** R$ \" + [Valor total formatado com duas casas decimais, usando vírgula como separador decimal, ex: 123,45] + \"\\n\\n\" +\n",
        "        \"**Preços e Links por Produto:**\" +\"\\n\" +\n",
        "        \"- \" + [Nome do Produto 1] + \": R$ \" + [Valor do Preço 1 formatado, usando vírgula como separador decimal, ex: 10,00] + \" - [Link da Página do Produto 1]\" + \"\\n\" +\n",
        "        \"- \" + [Nome do Produto 2] + \": R$ \" + [Valor do Preço 2 formatado, usando vírgula como separador decimal, ex: 20,50] + \" - [Link da Página do Produto 2]\" + \"\\n\" +\n",
        "        \"... (para todos os produtos da lista, seguindo o mesmo padrão '- [Nome do Produto]: R$ [Valor] - [Link]')\" + \"\\n\"\n",
        "\n",
        "        **IMPORTANTE SOBRE A FORMATAÇÃO E LIMPEZA DE TEXTO:**\n",
        "\n",
        "        * Garanta que haja um espaço **EXATAMENTE** entre cada palavra e símbolo (exceto entre o símbolo 'R$' e o número).\n",
        "        * Remova quaisquer caracteres especiais, acentos estranhos, símbolos não padrão ou artefatos de formatação.\n",
        "        * Utilize apenas letras padrão do alfabeto português, números, espaços, vírgulas (como separador decimal), pontos e os símbolos 'R$', ':' e '-'.\n",
        "        * Revise a ortografia e use pontuação adequada. NÃO junte palavras.\n",
        "        * Se não houver nenhuma empresa que tenha todos os produtos, retorne os preços dos produtos de cada empresa\n",
        "\n",
        "        **Exemplo de Saída Esperada:**\n",
        "\n",
        "        ```\n",
        "        **Menor Preço Total Encontrado:**\n",
        "        **Empresa:** Supermercado Bom Preço\n",
        "        **Preço Total:** R$ 35,99\n",
        "\n",
        "        **Preços e Links por Produto:**\n",
        "        - Sal Refinado Cisne 1Kg: R$ 2,89 - [https://www.supermercadobompreco.com.br/sal-refinado-cisne-1kg](https://www.supermercadobompreco.com.br/sal-refinado-cisne-1kg)\n",
        "        - Café 500g: R$ 33,10 - [https://www.supermercadobompreco.com.br/cafe-torrado-e-moido-500g](https://www.supermercadobompreco.com.br/cafe-torrado-e-moido-500g)\n",
        "        ```\n",
        "\n",
        "       \"\"\",\n",
        "       tools = [google_search]\n",
        "    )\n",
        "\n",
        "    entrada_do_agente_analisador = f\"Preço: {preco}\\nCidade: {cidade}\\nNotícias buscadas]: {noticias_buscadas}\"\n",
        "\n",
        "# Executa o agente\n",
        "    analise = call_agent(analisador, entrada_do_agente_analisador)\n",
        "    return analise"
      ],
      "metadata": {
        "id": "Z9y8vxc7UGQ0"
      },
      "execution_count": 1,
      "outputs": []
    },
    {
      "cell_type": "code",
      "source": [
        "# Função auxiliar para exibir texto formatado em Markdown no Colab\n",
        "def to_markdown(text):\n",
        "  text = text.replace('•', '  *')\n",
        "  return Markdown(textwrap.indent(text, '> ', predicate=lambda _: True))"
      ],
      "metadata": {
        "id": "puPLxRHS0e9k"
      },
      "execution_count": 7,
      "outputs": []
    },
    {
      "cell_type": "code",
      "source": [
        "data_de_hoje = date.today().strftime(\"%d/%m/%Y\")\n",
        "\n",
        "def main():\n",
        "    print(\"Bem-vindo ao Comparador de Preços (Baseado em IA)!\")\n",
        "    print(\"Exemplo para listar os produtos? 1 kg de sal, 500 g de café (se necessário, inclua o tipo do produto e a marca\")\n",
        "\n",
        "    while True:\n",
        "        preco = input(\"\\nQuer saber o menor preço aproximado de quais produtos? (ou 'fim' para sair): \")\n",
        "\n",
        "        if preco.lower() == \"fim\":\n",
        "            print(\"Obrigado por usar o Comparador de Preços!\")\n",
        "            break\n",
        "        else:\n",
        "            cidade = input(\"Em que local quer saber o preço (bairro ou cidade)? \") # Pede o local\n",
        "            print(\"Verificando...\") # Indica que a busca está em andamento pela IA\n",
        "            noticias_buscadas = agente_buscador(preco, cidade, data_de_hoje)\n",
        "            #print(\"\\n-- Resultado da busca no Google --- \\n\")\n",
        "            #display (to_markdown(noticias_buscadas))\n",
        "            precos_analisados = agente_analisador(preco, cidade, noticias_buscadas)\n",
        "            print(\"\\n-- Resultado da análise de preços considerando o último mês --- \\n\")\n",
        "            display (to_markdown(precos_analisados))\n",
        "            print (\"Nota: Valores estimados. Os preços dependem do estoque, promoções, etc.\")\n",
        "\n",
        "if __name__ == \"__main__\":\n",
        "      main()\n"
      ],
      "metadata": {
        "colab": {
          "base_uri": "https://localhost:8080/",
          "height": 758
        },
        "id": "dV6Qj01V4Zb6",
        "outputId": "e280110d-bc99-4048-bcf8-0c881f49fe42"
      },
      "execution_count": 12,
      "outputs": [
        {
          "output_type": "stream",
          "name": "stdout",
          "text": [
            "Bem-vindo ao Comparador de Preços (Baseado em IA)!\n",
            "Exemplo para listar os produtos? 1 kg de sal, 500 g de café (se necessário, inclua o tipo do produto e a marca\n",
            "\n",
            "Quer saber o menor preço aproximado de quais produtos? (ou 'fim' para sair): 1 kg de arroz, 500 g de macarrão Barilla, 500 g de café Melitta, 1 kg de açúcar União\n",
            "Em que local quer saber o preço (bairro ou cidade)? Curitiba\n",
            "Verificando...\n",
            "\n",
            "-- Resultado da análise de preços --- \n",
            "\n"
          ]
        },
        {
          "output_type": "display_data",
          "data": {
            "text/plain": [
              "<IPython.core.display.Markdown object>"
            ],
            "text/markdown": "> Como nenhuma das empresas possui o preço e link de todos os produtos solicitados, apresento os preços dos produtos encontrados em cada empresa:\n> \n> **Armazém da Maria:**\n> - Arroz Parboilizado Tipo 1 Buriti Pacote 1kg: R$ 5,65 - [https://www.armazemdamaria.com.br/arroz-parboilizado-tipo-1-buriti-pacote-1kg/p](https://www.armazemdamaria.com.br/arroz-parboilizado-tipo-1-buriti-pacote-1kg/p)\n> - Açúcar Refinado União 1Kg: R$ 5,28 - [https://www.armazemdamaria.com.br/acucar-refinado-uniao-1kg/p](https://www.armazemdamaria.com.br/acucar-refinado-uniao-1kg/p)\n> - Café Melitta Sabor da Fazenda Tradicional 500g: Consulte o site. - [https://www.armazemdamaria.com.br/cafe-melitta-sabor-da-fazenda-tradicional-500g/p](https://www.armazemdamaria.com.br/cafe-melitta-sabor-da-fazenda-tradicional-500g/p)\n> - Macarrão Barilla 500g: Não encontrado.\n> \n> **Super Muffato Delivery:**\n> - Açúcar Refinado União 1kg: R$ 4,80 - [https://www.supermuffato.com.br/produto/acucar-refinado-uniao-1kg/12030](https://www.supermuffato.com.br/produto/acucar-refinado-uniao-1kg/12030)\n> - Macarrão Spaghetti Barilla nº5 Grano Duro 500g: R$ 13,40 - [https://www.supermuffato.com.br/produto/macarrao-spaghetti-barilla-n5-grano-duro-500g/11692](https://www.supermuffato.com.br/produto/macarrao-spaghetti-barilla-n5-grano-duro-500g/11692)\n> - Café Melitta Tradicional a Vácuo 500g: Consulte o site. - [https://www.supermuffato.com.br/produto/cafe-melitta-tradicional-a-vacuo-500g/12018](https://www.supermuffato.com.br/produto/cafe-melitta-tradicional-a-vacuo-500g/12018)\n> - Arroz 1kg: Não encontrado.\n> \n> **Belíssima Casa di Frutas:**\n> - AÇÚCAR REFINADO LINHA CLÁSSICOS UNIÃO 1KG: R$ 7,98 - [https://www.belissimacasadifrutas.com.br/acucar-refinado-linha-classicos-uniao-1kg](https://www.belissimacasadifrutas.com.br/acucar-refinado-linha-classicos-uniao-1kg)\n> - Arroz 1kg: Não encontrado.\n> - Macarrão Barilla 500g: Não encontrado.\n> - Café Melitta 500g: Não encontrado.\n> \n"
          },
          "metadata": {}
        },
        {
          "output_type": "stream",
          "name": "stdout",
          "text": [
            "Nota: Valores estimados. Os preços dependem do estoque, promoções, etc.\n",
            "\n",
            "Quer saber o menor preço aproximado de quais produtos? (ou 'fim' para sair): fim\n",
            "Obrigado por usar o Comparador de Preços!\n"
          ]
        }
      ]
    },
    {
      "cell_type": "markdown",
      "source": [],
      "metadata": {
        "id": "bJe5_VCTGpd9"
      }
    },
    {
      "cell_type": "code",
      "source": [
        "!pip cache purge"
      ],
      "metadata": {
        "colab": {
          "base_uri": "https://localhost:8080/"
        },
        "id": "KgIlcBo6c_Lr",
        "outputId": "4073cb35-362e-4660-cc26-e786528dfe70"
      },
      "execution_count": null,
      "outputs": [
        {
          "output_type": "stream",
          "name": "stdout",
          "text": [
            "Files removed: 132\n"
          ]
        }
      ]
    }
  ]
}